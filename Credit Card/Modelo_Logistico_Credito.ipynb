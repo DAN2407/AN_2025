{
  "cells": [
    {
      "cell_type": "markdown",
      "metadata": {},
      "source": [
        "# 📘 Modelo de Regresión Logística Multinomial personalizado sobre el dataset de crédito\n"
      ]
    },
    {
      "cell_type": "code",
      "execution_count": 1,
      "metadata": {},
      "outputs": [],
      "source": [
        "# 📦 Importar librerías necesarias\n",
        "import pandas as pd\n",
        "import numpy as np\n",
        "import matplotlib.pyplot as plt\n",
        "import seaborn as sns\n",
        "from sklearn.model_selection import train_test_split\n",
        "from sklearn.preprocessing import StandardScaler\n",
        "from sklearn.metrics import accuracy_score, confusion_matrix, classification_report\n",
        "import pickle\n"
      ]
    },
    {
      "cell_type": "code",
      "execution_count": 2,
      "metadata": {},
      "outputs": [],
      "source": [
        "# 📂 Cargar el dataset\n",
        "data = pd.read_csv('UCI_Credit_Card.csv')\n"
      ]
    },
    {
      "cell_type": "code",
      "execution_count": 3,
      "metadata": {},
      "outputs": [
        {
          "name": "stdout",
          "output_type": "stream",
          "text": [
            "   ID  LIMIT_BAL  SEX  EDUCATION  MARRIAGE  AGE  PAY_0  PAY_2  PAY_3  PAY_4  \\\n",
            "0   1    20000.0    2          2         1   24      2      2     -1     -1   \n",
            "1   2   120000.0    2          2         2   26     -1      2      0      0   \n",
            "2   3    90000.0    2          2         2   34      0      0      0      0   \n",
            "3   4    50000.0    2          2         1   37      0      0      0      0   \n",
            "4   5    50000.0    1          2         1   57     -1      0     -1      0   \n",
            "\n",
            "   ...  BILL_AMT4  BILL_AMT5  BILL_AMT6  PAY_AMT1  PAY_AMT2  PAY_AMT3  \\\n",
            "0  ...        0.0        0.0        0.0       0.0     689.0       0.0   \n",
            "1  ...     3272.0     3455.0     3261.0       0.0    1000.0    1000.0   \n",
            "2  ...    14331.0    14948.0    15549.0    1518.0    1500.0    1000.0   \n",
            "3  ...    28314.0    28959.0    29547.0    2000.0    2019.0    1200.0   \n",
            "4  ...    20940.0    19146.0    19131.0    2000.0   36681.0   10000.0   \n",
            "\n",
            "   PAY_AMT4  PAY_AMT5  PAY_AMT6  default.payment.next.month  \n",
            "0       0.0       0.0       0.0                           1  \n",
            "1    1000.0       0.0    2000.0                           1  \n",
            "2    1000.0    1000.0    5000.0                           0  \n",
            "3    1100.0    1069.0    1000.0                           0  \n",
            "4    9000.0     689.0     679.0                           0  \n",
            "\n",
            "[5 rows x 25 columns]\n",
            "<class 'pandas.core.frame.DataFrame'>\n",
            "RangeIndex: 30000 entries, 0 to 29999\n",
            "Data columns (total 25 columns):\n",
            " #   Column                      Non-Null Count  Dtype  \n",
            "---  ------                      --------------  -----  \n",
            " 0   ID                          30000 non-null  int64  \n",
            " 1   LIMIT_BAL                   30000 non-null  float64\n",
            " 2   SEX                         30000 non-null  int64  \n",
            " 3   EDUCATION                   30000 non-null  int64  \n",
            " 4   MARRIAGE                    30000 non-null  int64  \n",
            " 5   AGE                         30000 non-null  int64  \n",
            " 6   PAY_0                       30000 non-null  int64  \n",
            " 7   PAY_2                       30000 non-null  int64  \n",
            " 8   PAY_3                       30000 non-null  int64  \n",
            " 9   PAY_4                       30000 non-null  int64  \n",
            " 10  PAY_5                       30000 non-null  int64  \n",
            " 11  PAY_6                       30000 non-null  int64  \n",
            " 12  BILL_AMT1                   30000 non-null  float64\n",
            " 13  BILL_AMT2                   30000 non-null  float64\n",
            " 14  BILL_AMT3                   30000 non-null  float64\n",
            " 15  BILL_AMT4                   30000 non-null  float64\n",
            " 16  BILL_AMT5                   30000 non-null  float64\n",
            " 17  BILL_AMT6                   30000 non-null  float64\n",
            " 18  PAY_AMT1                    30000 non-null  float64\n",
            " 19  PAY_AMT2                    30000 non-null  float64\n",
            " 20  PAY_AMT3                    30000 non-null  float64\n",
            " 21  PAY_AMT4                    30000 non-null  float64\n",
            " 22  PAY_AMT5                    30000 non-null  float64\n",
            " 23  PAY_AMT6                    30000 non-null  float64\n",
            " 24  default.payment.next.month  30000 non-null  int64  \n",
            "dtypes: float64(13), int64(12)\n",
            "memory usage: 5.7 MB\n",
            "None\n",
            "                 ID       LIMIT_BAL           SEX     EDUCATION      MARRIAGE  \\\n",
            "count  30000.000000    30000.000000  30000.000000  30000.000000  30000.000000   \n",
            "mean   15000.500000   167484.322667      1.603733      1.853133      1.551867   \n",
            "std     8660.398374   129747.661567      0.489129      0.790349      0.521970   \n",
            "min        1.000000    10000.000000      1.000000      0.000000      0.000000   \n",
            "25%     7500.750000    50000.000000      1.000000      1.000000      1.000000   \n",
            "50%    15000.500000   140000.000000      2.000000      2.000000      2.000000   \n",
            "75%    22500.250000   240000.000000      2.000000      2.000000      2.000000   \n",
            "max    30000.000000  1000000.000000      2.000000      6.000000      3.000000   \n",
            "\n",
            "                AGE         PAY_0         PAY_2         PAY_3         PAY_4  \\\n",
            "count  30000.000000  30000.000000  30000.000000  30000.000000  30000.000000   \n",
            "mean      35.485500     -0.016700     -0.133767     -0.166200     -0.220667   \n",
            "std        9.217904      1.123802      1.197186      1.196868      1.169139   \n",
            "min       21.000000     -2.000000     -2.000000     -2.000000     -2.000000   \n",
            "25%       28.000000     -1.000000     -1.000000     -1.000000     -1.000000   \n",
            "50%       34.000000      0.000000      0.000000      0.000000      0.000000   \n",
            "75%       41.000000      0.000000      0.000000      0.000000      0.000000   \n",
            "max       79.000000      8.000000      8.000000      8.000000      8.000000   \n",
            "\n",
            "       ...      BILL_AMT4      BILL_AMT5      BILL_AMT6       PAY_AMT1  \\\n",
            "count  ...   30000.000000   30000.000000   30000.000000   30000.000000   \n",
            "mean   ...   43262.948967   40311.400967   38871.760400    5663.580500   \n",
            "std    ...   64332.856134   60797.155770   59554.107537   16563.280354   \n",
            "min    ... -170000.000000  -81334.000000 -339603.000000       0.000000   \n",
            "25%    ...    2326.750000    1763.000000    1256.000000    1000.000000   \n",
            "50%    ...   19052.000000   18104.500000   17071.000000    2100.000000   \n",
            "75%    ...   54506.000000   50190.500000   49198.250000    5006.000000   \n",
            "max    ...  891586.000000  927171.000000  961664.000000  873552.000000   \n",
            "\n",
            "           PAY_AMT2      PAY_AMT3       PAY_AMT4       PAY_AMT5  \\\n",
            "count  3.000000e+04   30000.00000   30000.000000   30000.000000   \n",
            "mean   5.921163e+03    5225.68150    4826.076867    4799.387633   \n",
            "std    2.304087e+04   17606.96147   15666.159744   15278.305679   \n",
            "min    0.000000e+00       0.00000       0.000000       0.000000   \n",
            "25%    8.330000e+02     390.00000     296.000000     252.500000   \n",
            "50%    2.009000e+03    1800.00000    1500.000000    1500.000000   \n",
            "75%    5.000000e+03    4505.00000    4013.250000    4031.500000   \n",
            "max    1.684259e+06  896040.00000  621000.000000  426529.000000   \n",
            "\n",
            "            PAY_AMT6  default.payment.next.month  \n",
            "count   30000.000000                30000.000000  \n",
            "mean     5215.502567                    0.221200  \n",
            "std     17777.465775                    0.415062  \n",
            "min         0.000000                    0.000000  \n",
            "25%       117.750000                    0.000000  \n",
            "50%      1500.000000                    0.000000  \n",
            "75%      4000.000000                    0.000000  \n",
            "max    528666.000000                    1.000000  \n",
            "\n",
            "[8 rows x 25 columns]\n"
          ]
        }
      ],
      "source": [
        "# 🔍 Exploración inicial del dataset\n",
        "print(data.head())\n",
        "print(data.info())\n",
        "print(data.describe())\n"
      ]
    },
    {
      "cell_type": "code",
      "execution_count": 4,
      "metadata": {},
      "outputs": [
        {
          "name": "stdout",
          "output_type": "stream",
          "text": [
            "ID                            0\n",
            "LIMIT_BAL                     0\n",
            "SEX                           0\n",
            "EDUCATION                     0\n",
            "MARRIAGE                      0\n",
            "AGE                           0\n",
            "PAY_0                         0\n",
            "PAY_2                         0\n",
            "PAY_3                         0\n",
            "PAY_4                         0\n",
            "PAY_5                         0\n",
            "PAY_6                         0\n",
            "BILL_AMT1                     0\n",
            "BILL_AMT2                     0\n",
            "BILL_AMT3                     0\n",
            "BILL_AMT4                     0\n",
            "BILL_AMT5                     0\n",
            "BILL_AMT6                     0\n",
            "PAY_AMT1                      0\n",
            "PAY_AMT2                      0\n",
            "PAY_AMT3                      0\n",
            "PAY_AMT4                      0\n",
            "PAY_AMT5                      0\n",
            "PAY_AMT6                      0\n",
            "default.payment.next.month    0\n",
            "dtype: int64\n"
          ]
        }
      ],
      "source": [
        "# ✅ Verificar valores nulos y eliminar duplicados\n",
        "print(data.isnull().sum())\n",
        "data = data.drop_duplicates()\n"
      ]
    },
    {
      "cell_type": "code",
      "execution_count": 5,
      "metadata": {},
      "outputs": [],
      "source": [
        "# 🎯 Separar características (X) y la variable objetivo (y)\n",
        "X = data.drop('default.payment.next.month', axis=1)\n",
        "y = data['default.payment.next.month']\n"
      ]
    },
    {
      "cell_type": "code",
      "execution_count": 6,
      "metadata": {},
      "outputs": [],
      "source": [
        "# 🔄 Codificar variables categóricas si las hay\n",
        "categorical_cols = X.select_dtypes(include=['object']).columns\n",
        "if len(categorical_cols) > 0:\n",
        "    X = pd.get_dummies(X, columns=categorical_cols)\n"
      ]
    },
    {
      "cell_type": "code",
      "execution_count": 7,
      "metadata": {},
      "outputs": [],
      "source": [
        "# 📊 División de los datos en entrenamiento y prueba\n",
        "X_train, X_test, y_train, y_test = train_test_split(X, y, test_size=0.2, random_state=42)\n"
      ]
    },
    {
      "cell_type": "code",
      "execution_count": 8,
      "metadata": {},
      "outputs": [],
      "source": [
        "# ⚖️ Estandarizar los datos\n",
        "scaler = StandardScaler()\n",
        "X_train = scaler.fit_transform(X_train)\n",
        "X_test = scaler.transform(X_test)\n"
      ]
    },
    {
      "cell_type": "code",
      "execution_count": 9,
      "metadata": {},
      "outputs": [],
      "source": [
        "# ➕ Añadir término de intercepción (bias)\n",
        "X_train = np.hstack([np.ones((X_train.shape[0], 1)), X_train])\n",
        "X_test = np.hstack([np.ones((X_test.shape[0], 1)), X_test])\n"
      ]
    },
    {
      "cell_type": "code",
      "execution_count": 10,
      "metadata": {},
      "outputs": [],
      "source": [
        "# 🧠 Implementación personalizada de regresión logística binaria\n",
        "class LogisticRegression:\n",
        "    def __init__(self, learning_rate=0.01, max_iter=1000, tol=1e-4):\n",
        "        self.learning_rate = learning_rate\n",
        "        self.max_iter = max_iter\n",
        "        self.tol = tol\n",
        "        self.weights = None\n",
        "        self.loss_history = []\n",
        "\n",
        "    def sigmoid(self, z):\n",
        "        return 1 / (1 + np.exp(-z))\n",
        "\n",
        "    def compute_loss(self, X, y, weights):\n",
        "        m = X.shape[0]\n",
        "        h = self.sigmoid(X @ weights)\n",
        "        loss = (-1/m) * np.sum(y * np.log(h) + (1-y) * np.log(1-h))\n",
        "        return loss\n",
        "\n",
        "    def fit(self, X, y):\n",
        "        m, n = X.shape\n",
        "        self.weights = np.zeros(n)\n",
        "\n",
        "        for i in range(self.max_iter):\n",
        "            h = self.sigmoid(X @ self.weights)\n",
        "            gradient = (1/m) * (X.T @ (h - y))\n",
        "            new_weights = self.weights - self.learning_rate * gradient\n",
        "            loss = self.compute_loss(X, y, new_weights)\n",
        "            self.loss_history.append(loss)\n",
        "\n",
        "            if np.linalg.norm(new_weights - self.weights) < self.tol:\n",
        "                print(f\"Convergencia alcanzada en la iteración {i+1}\")\n",
        "                break\n",
        "\n",
        "            self.weights = new_weights\n",
        "        return self\n",
        "\n",
        "    def predict_proba(self, X):\n",
        "        return self.sigmoid(X @ self.weights)\n",
        "\n",
        "    def predict(self, X, threshold=0.5):\n",
        "        return (self.predict_proba(X) >= threshold).astype(int)\n"
      ]
    },
    {
      "cell_type": "code",
      "execution_count": 11,
      "metadata": {},
      "outputs": [],
      "source": [
        "# 🔄 Implementación de Regresión Logística Multiclase (One-vs-Rest)\n",
        "class MultiClassLogisticRegression:\n",
        "    def __init__(self, learning_rate=0.01, max_iter=1000, tol=1e-4):\n",
        "        self.learning_rate = learning_rate\n",
        "        self.max_iter = max_iter\n",
        "        self.tol = tol\n",
        "        self.classifiers = []\n",
        "\n",
        "    def fit(self, X, y):\n",
        "        self.classes = np.unique(y)\n",
        "\n",
        "        for cls in self.classes:\n",
        "            y_binary = (y == cls).astype(int)\n",
        "            lr = LogisticRegression(learning_rate=self.learning_rate, max_iter=self.max_iter, tol=self.tol)\n",
        "            lr.fit(X, y_binary)\n",
        "            self.classifiers.append(lr)\n",
        "        return self\n",
        "\n",
        "    def predict_proba(self, X):\n",
        "        probas = np.array([clf.predict_proba(X) for clf in self.classifiers]).T\n",
        "        return probas / probas.sum(axis=1, keepdims=True)\n",
        "\n",
        "    def predict(self, X):\n",
        "        probas = self.predict_proba(X)\n",
        "        return self.classes[np.argmax(probas, axis=1)]\n"
      ]
    },
    {
      "cell_type": "code",
      "execution_count": 12,
      "metadata": {},
      "outputs": [
        {
          "data": {
            "text/plain": [
              "<__main__.MultiClassLogisticRegression at 0x2258b977cb0>"
            ]
          },
          "execution_count": 12,
          "metadata": {},
          "output_type": "execute_result"
        }
      ],
      "source": [
        "# 🏋️ Entrenamiento del modelo\n",
        "model = MultiClassLogisticRegression(learning_rate=0.1, max_iter=1000)\n",
        "model.fit(X_train, y_train)\n"
      ]
    },
    {
      "cell_type": "code",
      "execution_count": 13,
      "metadata": {},
      "outputs": [
        {
          "data": {
            "image/png": "[encoded data removed]",
            "text/plain": [
              "<Figure size 1000x600 with 1 Axes>"
            ]
          },
          "metadata": {},
          "output_type": "display_data"
        }
      ],
      "source": [
        "# 📈 Visualizar la pérdida del primer clasificador\n",
        "plt.figure(figsize=(10, 6))\n",
        "plt.plot(model.classifiers[0].loss_history)\n",
        "plt.title('Pérdida durante el entrenamiento (Primer clasificador)')\n",
        "plt.xlabel('Iteración')\n",
        "plt.ylabel('Pérdida')\n",
        "plt.grid()\n",
        "plt.show()\n"
      ]
    },
    {
      "cell_type": "code",
      "execution_count": 14,
      "metadata": {},
      "outputs": [
        {
          "name": "stdout",
          "output_type": "stream",
          "text": [
            "Precisión: 0.8105\n",
            "Matriz de confusión:\n",
            "[[4554  133]\n",
            " [1004  309]]\n",
            "\n",
            "Reporte de clasificación:\n",
            "              precision    recall  f1-score   support\n",
            "\n",
            "           0       0.82      0.97      0.89      4687\n",
            "           1       0.70      0.24      0.35      1313\n",
            "\n",
            "    accuracy                           0.81      6000\n",
            "   macro avg       0.76      0.60      0.62      6000\n",
            "weighted avg       0.79      0.81      0.77      6000\n",
            "\n"
          ]
        }
      ],
      "source": [
        "# 📊 Evaluación del modelo\n",
        "y_pred = model.predict(X_test)\n",
        "accuracy = accuracy_score(y_test, y_pred)\n",
        "print(f\"Precisión: {accuracy:.4f}\")\n",
        "\n",
        "cm = confusion_matrix(y_test, y_pred)\n",
        "print(\"Matriz de confusión:\")\n",
        "print(cm)\n",
        "\n",
        "print(\"\\nReporte de clasificación:\")\n",
        "print(classification_report(y_test, y_pred))\n"
      ]
    },
    {
      "cell_type": "code",
      "execution_count": 15,
      "metadata": {},
      "outputs": [
        {
          "data": {
            "image/png": "[encoded data removed]",
            "text/plain": [
              "<Figure size 800x600 with 2 Axes>"
            ]
          },
          "metadata": {},
          "output_type": "display_data"
        }
      ],
      "source": [
        "# 🔍 Matriz de confusión visual\n",
        "plt.figure(figsize=(8, 6))\n",
        "sns.heatmap(cm, annot=True, fmt='d', cmap='Blues', xticklabels=model.classes, yticklabels=model.classes)\n",
        "plt.title('Matriz de Confusión')\n",
        "plt.xlabel('Predicho')\n",
        "plt.ylabel('Real')\n",
        "plt.show()\n"
      ]
    },
    {
      "cell_type": "code",
      "execution_count": 16,
      "metadata": {},
      "outputs": [
        {
          "name": "stdout",
          "output_type": "stream",
          "text": [
            "\n",
            "Coeficientes para la clase 0:\n",
            "      Feature  Coefficient\n",
            "0   Intercept     1.454506\n",
            "7       PAY_0    -0.650824\n",
            "20   PAY_AMT2     0.197523\n",
            "13  BILL_AMT1     0.167323\n",
            "19   PAY_AMT1     0.134727\n",
            "2   LIMIT_BAL     0.111295\n",
            "8       PAY_2    -0.106263\n",
            "9       PAY_3    -0.083875\n",
            "5    MARRIAGE     0.079104\n",
            "4   EDUCATION     0.078284\n",
            "\n",
            "Coeficientes para la clase 1:\n",
            "      Feature  Coefficient\n",
            "0   Intercept    -1.454506\n",
            "7       PAY_0     0.650824\n",
            "20   PAY_AMT2    -0.197523\n",
            "13  BILL_AMT1    -0.167323\n",
            "19   PAY_AMT1    -0.134727\n",
            "2   LIMIT_BAL    -0.111295\n",
            "8       PAY_2     0.106263\n",
            "9       PAY_3     0.083875\n",
            "5    MARRIAGE    -0.079104\n",
            "4   EDUCATION    -0.078284\n"
          ]
        }
      ],
      "source": [
        "# 📉 Mostrar los coeficientes más importantes\n",
        "feature_names = ['Intercept'] + list(data.drop('default.payment.next.month', axis=1).columns)\n",
        "for i, cls in enumerate(model.classes):\n",
        "    print(f\"\\nCoeficientes para la clase {cls}:\")\n",
        "    coef_df = pd.DataFrame({\n",
        "        'Feature': feature_names,\n",
        "        'Coefficient': model.classifiers[i].weights\n",
        "    })\n",
        "    coef_df = coef_df.sort_values(by='Coefficient', key=abs, ascending=False)\n",
        "    print(coef_df.head(10))\n"
      ]
    },
    {
      "cell_type": "code",
      "execution_count": 17,
      "metadata": {},
      "outputs": [],
      "source": [
        "# 💾 Guardar el modelo y el scaler\n",
        "with open('credit_card_default_model.pkl', 'wb') as f:\n",
        "    pickle.dump(model, f)\n",
        "\n",
        "with open('scaler.pkl', 'wb') as f:\n",
        "    pickle.dump(scaler, f)\n"
      ]
    }
  ],
  "metadata": {
    "kernelspec": {
      "display_name": "Python 3",
      "language": "python",
      "name": "python3"
    },
    "language_info": {
      "codemirror_mode": {
        "name": "ipython",
        "version": 3
      },
      "file_extension": ".py",
      "mimetype": "text/x-python",
      "name": "python",
      "nbconvert_exporter": "python",
      "pygments_lexer": "ipython3",
      "version": "3.13.3"
    }
  },
  "nbformat": 4,
  "nbformat_minor": 5
}
