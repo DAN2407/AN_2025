{
 "cells": [
  {
   "cell_type": "markdown",
   "id": "44242d0e",
   "metadata": {},
   "source": [
    "🎮 REGRESIÓN LINEAL MULTIVARIADA - VENTAS DE VIDEOJUEGOS\n",
    "Dataset: vgsales.csv"
   ]
  },
  {
   "cell_type": "markdown",
   "id": "47450e59",
   "metadata": {},
   "source": [
    "📦 Importar librerías necesarias"
   ]
  },
  {
   "cell_type": "code",
   "execution_count": 73,
   "id": "ca310112",
   "metadata": {},
   "outputs": [],
   "source": [
    "import pandas as pd\n",
    "import numpy as np\n",
    "import matplotlib.pyplot as plt\n",
    "import seaborn as sns"
   ]
  },
  {
   "cell_type": "markdown",
   "id": "166f379a",
   "metadata": {},
   "source": [
    "📥 Cargar el dataset"
   ]
  },
  {
   "cell_type": "code",
   "execution_count": 74,
   "id": "d5fa10a0",
   "metadata": {},
   "outputs": [
    {
     "name": "stdout",
     "output_type": "stream",
     "text": [
      "Primeras filas del dataset:\n"
     ]
    },
    {
     "data": {
      "text/html": [
       "<div>\n",
       "<style scoped>\n",
       "    .dataframe tbody tr th:only-of-type {\n",
       "        vertical-align: middle;\n",
       "    }\n",
       "\n",
       "    .dataframe tbody tr th {\n",
       "        vertical-align: top;\n",
       "    }\n",
       "\n",
       "    .dataframe thead th {\n",
       "        text-align: right;\n",
       "    }\n",
       "</style>\n",
       "<table border=\"1\" class=\"dataframe\">\n",
       "  <thead>\n",
       "    <tr style=\"text-align: right;\">\n",
       "      <th></th>\n",
       "      <th>Rank</th>\n",
       "      <th>Name</th>\n",
       "      <th>Platform</th>\n",
       "      <th>Year</th>\n",
       "      <th>Genre</th>\n",
       "      <th>Publisher</th>\n",
       "      <th>NA_Sales</th>\n",
       "      <th>EU_Sales</th>\n",
       "      <th>JP_Sales</th>\n",
       "      <th>Other_Sales</th>\n",
       "      <th>Global_Sales</th>\n",
       "    </tr>\n",
       "  </thead>\n",
       "  <tbody>\n",
       "    <tr>\n",
       "      <th>0</th>\n",
       "      <td>1</td>\n",
       "      <td>Wii Sports</td>\n",
       "      <td>Wii</td>\n",
       "      <td>2006.0</td>\n",
       "      <td>Sports</td>\n",
       "      <td>Nintendo</td>\n",
       "      <td>41.49</td>\n",
       "      <td>29.02</td>\n",
       "      <td>3.77</td>\n",
       "      <td>8.46</td>\n",
       "      <td>82.74</td>\n",
       "    </tr>\n",
       "    <tr>\n",
       "      <th>1</th>\n",
       "      <td>2</td>\n",
       "      <td>Super Mario Bros.</td>\n",
       "      <td>NES</td>\n",
       "      <td>1985.0</td>\n",
       "      <td>Platform</td>\n",
       "      <td>Nintendo</td>\n",
       "      <td>29.08</td>\n",
       "      <td>3.58</td>\n",
       "      <td>6.81</td>\n",
       "      <td>0.77</td>\n",
       "      <td>40.24</td>\n",
       "    </tr>\n",
       "    <tr>\n",
       "      <th>2</th>\n",
       "      <td>3</td>\n",
       "      <td>Mario Kart Wii</td>\n",
       "      <td>Wii</td>\n",
       "      <td>2008.0</td>\n",
       "      <td>Racing</td>\n",
       "      <td>Nintendo</td>\n",
       "      <td>15.85</td>\n",
       "      <td>12.88</td>\n",
       "      <td>3.79</td>\n",
       "      <td>3.31</td>\n",
       "      <td>35.82</td>\n",
       "    </tr>\n",
       "    <tr>\n",
       "      <th>3</th>\n",
       "      <td>4</td>\n",
       "      <td>Wii Sports Resort</td>\n",
       "      <td>Wii</td>\n",
       "      <td>2009.0</td>\n",
       "      <td>Sports</td>\n",
       "      <td>Nintendo</td>\n",
       "      <td>15.75</td>\n",
       "      <td>11.01</td>\n",
       "      <td>3.28</td>\n",
       "      <td>2.96</td>\n",
       "      <td>33.00</td>\n",
       "    </tr>\n",
       "    <tr>\n",
       "      <th>4</th>\n",
       "      <td>5</td>\n",
       "      <td>Pokemon Red/Pokemon Blue</td>\n",
       "      <td>GB</td>\n",
       "      <td>1996.0</td>\n",
       "      <td>Role-Playing</td>\n",
       "      <td>Nintendo</td>\n",
       "      <td>11.27</td>\n",
       "      <td>8.89</td>\n",
       "      <td>10.22</td>\n",
       "      <td>1.00</td>\n",
       "      <td>31.37</td>\n",
       "    </tr>\n",
       "  </tbody>\n",
       "</table>\n",
       "</div>"
      ],
      "text/plain": [
       "   Rank                      Name Platform    Year         Genre Publisher  \\\n",
       "0     1                Wii Sports      Wii  2006.0        Sports  Nintendo   \n",
       "1     2         Super Mario Bros.      NES  1985.0      Platform  Nintendo   \n",
       "2     3            Mario Kart Wii      Wii  2008.0        Racing  Nintendo   \n",
       "3     4         Wii Sports Resort      Wii  2009.0        Sports  Nintendo   \n",
       "4     5  Pokemon Red/Pokemon Blue       GB  1996.0  Role-Playing  Nintendo   \n",
       "\n",
       "   NA_Sales  EU_Sales  JP_Sales  Other_Sales  Global_Sales  \n",
       "0     41.49     29.02      3.77         8.46         82.74  \n",
       "1     29.08      3.58      6.81         0.77         40.24  \n",
       "2     15.85     12.88      3.79         3.31         35.82  \n",
       "3     15.75     11.01      3.28         2.96         33.00  \n",
       "4     11.27      8.89     10.22         1.00         31.37  "
      ]
     },
     "metadata": {},
     "output_type": "display_data"
    }
   ],
   "source": [
    "df = pd.read_csv('vgsales.csv')\n",
    "print(\"Primeras filas del dataset:\")\n",
    "display(df.head())"
   ]
  },
  {
   "cell_type": "markdown",
   "id": "ff0be3e3",
   "metadata": {},
   "source": [
    "1. Limpieza de datos\n",
    "Revisar duplicados"
   ]
  },
  {
   "cell_type": "code",
   "execution_count": 75,
   "id": "a9ef771e",
   "metadata": {},
   "outputs": [
    {
     "name": "stdout",
     "output_type": "stream",
     "text": [
      "Duplicados: 0\n"
     ]
    }
   ],
   "source": [
    "print(\"Duplicados:\", df.duplicated().sum())\n",
    "df = df.drop_duplicates()"
   ]
  },
  {
   "cell_type": "markdown",
   "id": "7bc79e58",
   "metadata": {},
   "source": [
    "Revisar valores nulos"
   ]
  },
  {
   "cell_type": "code",
   "execution_count": 76,
   "id": "3f5a395e",
   "metadata": {},
   "outputs": [
    {
     "name": "stdout",
     "output_type": "stream",
     "text": [
      "Valores nulos por columna:\n",
      "Rank              0\n",
      "Name              0\n",
      "Platform          0\n",
      "Year            271\n",
      "Genre             0\n",
      "Publisher        58\n",
      "NA_Sales          0\n",
      "EU_Sales          0\n",
      "JP_Sales          0\n",
      "Other_Sales       0\n",
      "Global_Sales      0\n",
      "dtype: int64\n"
     ]
    }
   ],
   "source": [
    "print(\"Valores nulos por columna:\")\n",
    "print(df.isnull().sum())"
   ]
  },
  {
   "cell_type": "markdown",
   "id": "6a97a263",
   "metadata": {},
   "source": [
    "Eliminar filas con valores nulos (si existen)"
   ]
  },
  {
   "cell_type": "code",
   "execution_count": 77,
   "id": "a962c8c3",
   "metadata": {},
   "outputs": [],
   "source": [
    "df = df.dropna()"
   ]
  },
  {
   "cell_type": "markdown",
   "id": "7f2400f0",
   "metadata": {},
   "source": [
    "Verificar nuevamente si hay valores nulos"
   ]
  },
  {
   "cell_type": "code",
   "execution_count": 78,
   "id": "3d159624",
   "metadata": {},
   "outputs": [],
   "source": [
    "if df.isnull().sum().any():\n",
    "    raise ValueError(\"El dataset contiene valores nulos después de la limpieza.\")"
   ]
  },
  {
   "cell_type": "markdown",
   "id": "8dd874ed",
   "metadata": {},
   "source": [
    "2. Estadísticas básicas"
   ]
  },
  {
   "cell_type": "code",
   "execution_count": 79,
   "id": "957ebc43",
   "metadata": {},
   "outputs": [
    {
     "name": "stdout",
     "output_type": "stream",
     "text": [
      "Resumen estadístico:\n"
     ]
    },
    {
     "data": {
      "text/html": [
       "<div>\n",
       "<style scoped>\n",
       "    .dataframe tbody tr th:only-of-type {\n",
       "        vertical-align: middle;\n",
       "    }\n",
       "\n",
       "    .dataframe tbody tr th {\n",
       "        vertical-align: top;\n",
       "    }\n",
       "\n",
       "    .dataframe thead th {\n",
       "        text-align: right;\n",
       "    }\n",
       "</style>\n",
       "<table border=\"1\" class=\"dataframe\">\n",
       "  <thead>\n",
       "    <tr style=\"text-align: right;\">\n",
       "      <th></th>\n",
       "      <th>Rank</th>\n",
       "      <th>Year</th>\n",
       "      <th>NA_Sales</th>\n",
       "      <th>EU_Sales</th>\n",
       "      <th>JP_Sales</th>\n",
       "      <th>Other_Sales</th>\n",
       "      <th>Global_Sales</th>\n",
       "    </tr>\n",
       "  </thead>\n",
       "  <tbody>\n",
       "    <tr>\n",
       "      <th>count</th>\n",
       "      <td>16291.000000</td>\n",
       "      <td>16291.000000</td>\n",
       "      <td>16291.000000</td>\n",
       "      <td>16291.000000</td>\n",
       "      <td>16291.000000</td>\n",
       "      <td>16291.000000</td>\n",
       "      <td>16291.000000</td>\n",
       "    </tr>\n",
       "    <tr>\n",
       "      <th>mean</th>\n",
       "      <td>8290.190228</td>\n",
       "      <td>2006.405561</td>\n",
       "      <td>0.265647</td>\n",
       "      <td>0.147731</td>\n",
       "      <td>0.078833</td>\n",
       "      <td>0.048426</td>\n",
       "      <td>0.540910</td>\n",
       "    </tr>\n",
       "    <tr>\n",
       "      <th>std</th>\n",
       "      <td>4792.654450</td>\n",
       "      <td>5.832412</td>\n",
       "      <td>0.822432</td>\n",
       "      <td>0.509303</td>\n",
       "      <td>0.311879</td>\n",
       "      <td>0.190083</td>\n",
       "      <td>1.567345</td>\n",
       "    </tr>\n",
       "    <tr>\n",
       "      <th>min</th>\n",
       "      <td>1.000000</td>\n",
       "      <td>1980.000000</td>\n",
       "      <td>0.000000</td>\n",
       "      <td>0.000000</td>\n",
       "      <td>0.000000</td>\n",
       "      <td>0.000000</td>\n",
       "      <td>0.010000</td>\n",
       "    </tr>\n",
       "    <tr>\n",
       "      <th>25%</th>\n",
       "      <td>4132.500000</td>\n",
       "      <td>2003.000000</td>\n",
       "      <td>0.000000</td>\n",
       "      <td>0.000000</td>\n",
       "      <td>0.000000</td>\n",
       "      <td>0.000000</td>\n",
       "      <td>0.060000</td>\n",
       "    </tr>\n",
       "    <tr>\n",
       "      <th>50%</th>\n",
       "      <td>8292.000000</td>\n",
       "      <td>2007.000000</td>\n",
       "      <td>0.080000</td>\n",
       "      <td>0.020000</td>\n",
       "      <td>0.000000</td>\n",
       "      <td>0.010000</td>\n",
       "      <td>0.170000</td>\n",
       "    </tr>\n",
       "    <tr>\n",
       "      <th>75%</th>\n",
       "      <td>12439.500000</td>\n",
       "      <td>2010.000000</td>\n",
       "      <td>0.240000</td>\n",
       "      <td>0.110000</td>\n",
       "      <td>0.040000</td>\n",
       "      <td>0.040000</td>\n",
       "      <td>0.480000</td>\n",
       "    </tr>\n",
       "    <tr>\n",
       "      <th>max</th>\n",
       "      <td>16600.000000</td>\n",
       "      <td>2020.000000</td>\n",
       "      <td>41.490000</td>\n",
       "      <td>29.020000</td>\n",
       "      <td>10.220000</td>\n",
       "      <td>10.570000</td>\n",
       "      <td>82.740000</td>\n",
       "    </tr>\n",
       "  </tbody>\n",
       "</table>\n",
       "</div>"
      ],
      "text/plain": [
       "               Rank          Year      NA_Sales      EU_Sales      JP_Sales  \\\n",
       "count  16291.000000  16291.000000  16291.000000  16291.000000  16291.000000   \n",
       "mean    8290.190228   2006.405561      0.265647      0.147731      0.078833   \n",
       "std     4792.654450      5.832412      0.822432      0.509303      0.311879   \n",
       "min        1.000000   1980.000000      0.000000      0.000000      0.000000   \n",
       "25%     4132.500000   2003.000000      0.000000      0.000000      0.000000   \n",
       "50%     8292.000000   2007.000000      0.080000      0.020000      0.000000   \n",
       "75%    12439.500000   2010.000000      0.240000      0.110000      0.040000   \n",
       "max    16600.000000   2020.000000     41.490000     29.020000     10.220000   \n",
       "\n",
       "        Other_Sales  Global_Sales  \n",
       "count  16291.000000  16291.000000  \n",
       "mean       0.048426      0.540910  \n",
       "std        0.190083      1.567345  \n",
       "min        0.000000      0.010000  \n",
       "25%        0.000000      0.060000  \n",
       "50%        0.010000      0.170000  \n",
       "75%        0.040000      0.480000  \n",
       "max       10.570000     82.740000  "
      ]
     },
     "metadata": {},
     "output_type": "display_data"
    }
   ],
   "source": [
    "print(\"Resumen estadístico:\")\n",
    "display(df.describe())"
   ]
  },
  {
   "cell_type": "markdown",
   "id": "01d6be80",
   "metadata": {},
   "source": [
    "Columnas disponibles"
   ]
  },
  {
   "cell_type": "code",
   "execution_count": 80,
   "id": "6552c56f",
   "metadata": {},
   "outputs": [
    {
     "name": "stdout",
     "output_type": "stream",
     "text": [
      "Columnas disponibles: ['Rank', 'Name', 'Platform', 'Year', 'Genre', 'Publisher', 'NA_Sales', 'EU_Sales', 'JP_Sales', 'Other_Sales', 'Global_Sales']\n"
     ]
    }
   ],
   "source": [
    "print(\"Columnas disponibles:\", df.columns.tolist())"
   ]
  },
  {
   "cell_type": "markdown",
   "id": "dacf8784",
   "metadata": {},
   "source": [
    "3. Codificación de variables categóricas (One-Hot Encoding)"
   ]
  },
  {
   "cell_type": "code",
   "execution_count": 81,
   "id": "3755281b",
   "metadata": {},
   "outputs": [
    {
     "name": "stdout",
     "output_type": "stream",
     "text": [
      "Primeras filas del dataset codificado:\n"
     ]
    },
    {
     "data": {
      "text/html": [
       "<div>\n",
       "<style scoped>\n",
       "    .dataframe tbody tr th:only-of-type {\n",
       "        vertical-align: middle;\n",
       "    }\n",
       "\n",
       "    .dataframe tbody tr th {\n",
       "        vertical-align: top;\n",
       "    }\n",
       "\n",
       "    .dataframe thead th {\n",
       "        text-align: right;\n",
       "    }\n",
       "</style>\n",
       "<table border=\"1\" class=\"dataframe\">\n",
       "  <thead>\n",
       "    <tr style=\"text-align: right;\">\n",
       "      <th></th>\n",
       "      <th>Rank</th>\n",
       "      <th>Name</th>\n",
       "      <th>Year</th>\n",
       "      <th>NA_Sales</th>\n",
       "      <th>EU_Sales</th>\n",
       "      <th>JP_Sales</th>\n",
       "      <th>Other_Sales</th>\n",
       "      <th>Global_Sales</th>\n",
       "      <th>Platform_3DO</th>\n",
       "      <th>Platform_3DS</th>\n",
       "      <th>...</th>\n",
       "      <th>Publisher_Zushi Games</th>\n",
       "      <th>Publisher_bitComposer Games</th>\n",
       "      <th>Publisher_dramatic create</th>\n",
       "      <th>Publisher_fonfun</th>\n",
       "      <th>Publisher_iWin</th>\n",
       "      <th>Publisher_id Software</th>\n",
       "      <th>Publisher_imageepoch Inc.</th>\n",
       "      <th>Publisher_inXile Entertainment</th>\n",
       "      <th>Publisher_mixi, Inc</th>\n",
       "      <th>Publisher_responDESIGN</th>\n",
       "    </tr>\n",
       "  </thead>\n",
       "  <tbody>\n",
       "    <tr>\n",
       "      <th>0</th>\n",
       "      <td>1</td>\n",
       "      <td>Wii Sports</td>\n",
       "      <td>2006.0</td>\n",
       "      <td>41.49</td>\n",
       "      <td>29.02</td>\n",
       "      <td>3.77</td>\n",
       "      <td>8.46</td>\n",
       "      <td>82.74</td>\n",
       "      <td>False</td>\n",
       "      <td>False</td>\n",
       "      <td>...</td>\n",
       "      <td>False</td>\n",
       "      <td>False</td>\n",
       "      <td>False</td>\n",
       "      <td>False</td>\n",
       "      <td>False</td>\n",
       "      <td>False</td>\n",
       "      <td>False</td>\n",
       "      <td>False</td>\n",
       "      <td>False</td>\n",
       "      <td>False</td>\n",
       "    </tr>\n",
       "    <tr>\n",
       "      <th>1</th>\n",
       "      <td>2</td>\n",
       "      <td>Super Mario Bros.</td>\n",
       "      <td>1985.0</td>\n",
       "      <td>29.08</td>\n",
       "      <td>3.58</td>\n",
       "      <td>6.81</td>\n",
       "      <td>0.77</td>\n",
       "      <td>40.24</td>\n",
       "      <td>False</td>\n",
       "      <td>False</td>\n",
       "      <td>...</td>\n",
       "      <td>False</td>\n",
       "      <td>False</td>\n",
       "      <td>False</td>\n",
       "      <td>False</td>\n",
       "      <td>False</td>\n",
       "      <td>False</td>\n",
       "      <td>False</td>\n",
       "      <td>False</td>\n",
       "      <td>False</td>\n",
       "      <td>False</td>\n",
       "    </tr>\n",
       "    <tr>\n",
       "      <th>2</th>\n",
       "      <td>3</td>\n",
       "      <td>Mario Kart Wii</td>\n",
       "      <td>2008.0</td>\n",
       "      <td>15.85</td>\n",
       "      <td>12.88</td>\n",
       "      <td>3.79</td>\n",
       "      <td>3.31</td>\n",
       "      <td>35.82</td>\n",
       "      <td>False</td>\n",
       "      <td>False</td>\n",
       "      <td>...</td>\n",
       "      <td>False</td>\n",
       "      <td>False</td>\n",
       "      <td>False</td>\n",
       "      <td>False</td>\n",
       "      <td>False</td>\n",
       "      <td>False</td>\n",
       "      <td>False</td>\n",
       "      <td>False</td>\n",
       "      <td>False</td>\n",
       "      <td>False</td>\n",
       "    </tr>\n",
       "    <tr>\n",
       "      <th>3</th>\n",
       "      <td>4</td>\n",
       "      <td>Wii Sports Resort</td>\n",
       "      <td>2009.0</td>\n",
       "      <td>15.75</td>\n",
       "      <td>11.01</td>\n",
       "      <td>3.28</td>\n",
       "      <td>2.96</td>\n",
       "      <td>33.00</td>\n",
       "      <td>False</td>\n",
       "      <td>False</td>\n",
       "      <td>...</td>\n",
       "      <td>False</td>\n",
       "      <td>False</td>\n",
       "      <td>False</td>\n",
       "      <td>False</td>\n",
       "      <td>False</td>\n",
       "      <td>False</td>\n",
       "      <td>False</td>\n",
       "      <td>False</td>\n",
       "      <td>False</td>\n",
       "      <td>False</td>\n",
       "    </tr>\n",
       "    <tr>\n",
       "      <th>4</th>\n",
       "      <td>5</td>\n",
       "      <td>Pokemon Red/Pokemon Blue</td>\n",
       "      <td>1996.0</td>\n",
       "      <td>11.27</td>\n",
       "      <td>8.89</td>\n",
       "      <td>10.22</td>\n",
       "      <td>1.00</td>\n",
       "      <td>31.37</td>\n",
       "      <td>False</td>\n",
       "      <td>False</td>\n",
       "      <td>...</td>\n",
       "      <td>False</td>\n",
       "      <td>False</td>\n",
       "      <td>False</td>\n",
       "      <td>False</td>\n",
       "      <td>False</td>\n",
       "      <td>False</td>\n",
       "      <td>False</td>\n",
       "      <td>False</td>\n",
       "      <td>False</td>\n",
       "      <td>False</td>\n",
       "    </tr>\n",
       "  </tbody>\n",
       "</table>\n",
       "<p>5 rows × 624 columns</p>\n",
       "</div>"
      ],
      "text/plain": [
       "   Rank                      Name    Year  NA_Sales  EU_Sales  JP_Sales  \\\n",
       "0     1                Wii Sports  2006.0     41.49     29.02      3.77   \n",
       "1     2         Super Mario Bros.  1985.0     29.08      3.58      6.81   \n",
       "2     3            Mario Kart Wii  2008.0     15.85     12.88      3.79   \n",
       "3     4         Wii Sports Resort  2009.0     15.75     11.01      3.28   \n",
       "4     5  Pokemon Red/Pokemon Blue  1996.0     11.27      8.89     10.22   \n",
       "\n",
       "   Other_Sales  Global_Sales  Platform_3DO  Platform_3DS  ...  \\\n",
       "0         8.46         82.74         False         False  ...   \n",
       "1         0.77         40.24         False         False  ...   \n",
       "2         3.31         35.82         False         False  ...   \n",
       "3         2.96         33.00         False         False  ...   \n",
       "4         1.00         31.37         False         False  ...   \n",
       "\n",
       "   Publisher_Zushi Games  Publisher_bitComposer Games  \\\n",
       "0                  False                        False   \n",
       "1                  False                        False   \n",
       "2                  False                        False   \n",
       "3                  False                        False   \n",
       "4                  False                        False   \n",
       "\n",
       "   Publisher_dramatic create  Publisher_fonfun  Publisher_iWin  \\\n",
       "0                      False             False           False   \n",
       "1                      False             False           False   \n",
       "2                      False             False           False   \n",
       "3                      False             False           False   \n",
       "4                      False             False           False   \n",
       "\n",
       "   Publisher_id Software  Publisher_imageepoch Inc.  \\\n",
       "0                  False                      False   \n",
       "1                  False                      False   \n",
       "2                  False                      False   \n",
       "3                  False                      False   \n",
       "4                  False                      False   \n",
       "\n",
       "   Publisher_inXile Entertainment  Publisher_mixi, Inc  Publisher_responDESIGN  \n",
       "0                           False                False                   False  \n",
       "1                           False                False                   False  \n",
       "2                           False                False                   False  \n",
       "3                           False                False                   False  \n",
       "4                           False                False                   False  \n",
       "\n",
       "[5 rows x 624 columns]"
      ]
     },
     "metadata": {},
     "output_type": "display_data"
    }
   ],
   "source": [
    "df_encoded = pd.get_dummies(df, columns=['Platform', 'Genre', 'Publisher'], drop_first=True)\n",
    "print(\"Primeras filas del dataset codificado:\")\n",
    "display(df_encoded.head())"
   ]
  },
  {
   "cell_type": "markdown",
   "id": "20607c7f",
   "metadata": {},
   "source": [
    "4. Visualización de la variable objetivo: estimar las stimar las ventas globales de videojuegos"
   ]
  },
  {
   "cell_type": "code",
   "execution_count": 82,
   "id": "e68f4a02",
   "metadata": {},
   "outputs": [
    {
     "data": {
      "image/png": "[encoded data removed]",
      "text/plain": [
       "<Figure size 1000x500 with 1 Axes>"
      ]
     },
     "metadata": {},
     "output_type": "display_data"
    }
   ],
   "source": [
    "plt.figure(figsize=(10, 5))\n",
    "plt.hist(df['Global_Sales'], bins=30, color='skyblue', edgecolor='black')\n",
    "\n",
    "plt.title(\"Distribución de Ventas Globales de Videojuegos\")\n",
    "plt.xlabel(\"Ventas Globales (millones de unidades)\")\n",
    "plt.ylabel(\"Frecuencia\")\n",
    "plt.grid(axis='y', alpha=0.75)\n",
    "plt.show()"
   ]
  },
  {
   "cell_type": "markdown",
   "id": "2574500b",
   "metadata": {},
   "source": [
    "5. Matriz de correlación"
   ]
  },
  {
   "cell_type": "code",
   "execution_count": 83,
   "id": "d17ff390",
   "metadata": {},
   "outputs": [
    {
     "data": {
      "image/png": "[encoded data removed]",
      "text/plain": [
       "<Figure size 1500x1000 with 2 Axes>"
      ]
     },
     "metadata": {},
     "output_type": "display_data"
    }
   ],
   "source": [
    "plt.figure(figsize=(15, 10))\n",
    "numeric_columns = df_encoded.select_dtypes(include=[np.number])\n",
    "sns.heatmap(numeric_columns.corr(), annot=True, fmt=\".2f\", cmap='coolwarm', square=True, cbar_kws={\"shrink\": .8})\n",
    "plt.title(\"Matriz de Correlación\")\n",
    "plt.show()"
   ]
  },
  {
   "cell_type": "markdown",
   "id": "68739094",
   "metadata": {},
   "source": [
    "ENTRENAMIENTO DEL MODELO DE REGRESIÓN LINEAL"
   ]
  },
  {
   "cell_type": "markdown",
   "id": "bc497077",
   "metadata": {},
   "source": [
    "1. Preparar datos\n",
    "\n",
    "Asegurarse de que todas las columnas sean numéricas"
   ]
  },
  {
   "cell_type": "code",
   "execution_count": 84,
   "id": "297ad2e6",
   "metadata": {},
   "outputs": [],
   "source": [
    "X = df_encoded.drop(\"Global_Sales\", axis=1).select_dtypes(include=[np.number]).values\n",
    "y = df_encoded[\"Global_Sales\"].values\n",
    "m = len(y)"
   ]
  },
  {
   "cell_type": "markdown",
   "id": "ba41cb22",
   "metadata": {},
   "source": [
    "Normalizar las características para mejorar la convergencia"
   ]
  },
  {
   "cell_type": "code",
   "execution_count": 85,
   "id": "f0e23ac9",
   "metadata": {},
   "outputs": [],
   "source": [
    "from sklearn.preprocessing import StandardScaler\n",
    "scaler = StandardScaler()\n",
    "X = scaler.fit_transform(X)"
   ]
  },
  {
   "cell_type": "markdown",
   "id": "bc951b15",
   "metadata": {},
   "source": [
    "Añadir columna de unos (bias)"
   ]
  },
  {
   "cell_type": "code",
   "execution_count": 86,
   "id": "9d878d5b",
   "metadata": {},
   "outputs": [
    {
     "name": "stdout",
     "output_type": "stream",
     "text": [
      "Shape de X con bias: (16291, 7)\n"
     ]
    }
   ],
   "source": [
    "X_b = np.c_[np.ones((m, 1)), X]\n",
    "print(\"Shape de X con bias:\", X_b.shape)"
   ]
  },
  {
   "cell_type": "markdown",
   "id": "6bce101d",
   "metadata": {},
   "source": [
    "2. Inicializar parámetros"
   ]
  },
  {
   "cell_type": "code",
   "execution_count": null,
   "id": "a14b00b4",
   "metadata": {},
   "outputs": [],
   "source": [
    "alpha = 0.0001         # tasa de aprendizaje\n",
    "iterations = 14000      # iteraciones\n",
    "theta = np.zeros(X_b.shape[1])"
   ]
  },
  {
   "cell_type": "markdown",
   "id": "85467995",
   "metadata": {},
   "source": [
    "3. Definir funciones"
   ]
  },
  {
   "cell_type": "code",
   "execution_count": 88,
   "id": "057c8d2e",
   "metadata": {},
   "outputs": [],
   "source": [
    "def compute_loss(X, y, theta):\n",
    "    m = len(y)\n",
    "    predictions = X.dot(theta)\n",
    "    loss = (1 / (2 * m)) * np.sum((predictions - y) ** 2)\n",
    "    return loss\n",
    "\n",
    "def gradient_descent(X, y, theta, alpha, iterations):\n",
    "    m = len(y)\n",
    "    loss_history = []\n",
    "\n",
    "    for i in range(iterations):\n",
    "        predictions = X.dot(theta)\n",
    "        error = predictions - y\n",
    "        gradient = (1 / m) * X.T.dot(error)\n",
    "        theta -= alpha * gradient\n",
    "        loss_history.append(compute_loss(X, y, theta))\n",
    "\n",
    "        if i % 500 == 0:\n",
    "            print(f\"Iteración {i}: Error = {loss_history[-1]:.4f}\")\n",
    "\n",
    "    return theta, loss_history"
   ]
  },
  {
   "cell_type": "markdown",
   "id": "9f040bd5",
   "metadata": {},
   "source": [
    "4. Entrenar modelo"
   ]
  },
  {
   "cell_type": "code",
   "execution_count": 89,
   "id": "7286af57",
   "metadata": {},
   "outputs": [
    {
     "name": "stdout",
     "output_type": "stream",
     "text": [
      "Iteración 0: Error = 1.3744\n",
      "Iteración 500: Error = 1.3388\n",
      "Iteración 1000: Error = 1.3041\n",
      "Iteración 1500: Error = 1.2705\n",
      "Iteración 2000: Error = 1.2377\n",
      "Iteración 2500: Error = 1.2059\n",
      "Iteración 3000: Error = 1.1750\n",
      "Iteración 3500: Error = 1.1450\n",
      "Iteración 4000: Error = 1.1158\n",
      "Iteración 4500: Error = 1.0874\n",
      "Iteración 5000: Error = 1.0598\n",
      "Iteración 5500: Error = 1.0329\n",
      "Iteración 6000: Error = 1.0069\n",
      "Iteración 6500: Error = 0.9815\n",
      "Iteración 7000: Error = 0.9569\n",
      "Iteración 7500: Error = 0.9329\n",
      "Iteración 8000: Error = 0.9096\n",
      "Iteración 8500: Error = 0.8870\n",
      "Iteración 9000: Error = 0.8649\n",
      "Iteración 9500: Error = 0.8435\n",
      "Iteración 10000: Error = 0.8227\n",
      "Iteración 10500: Error = 0.8025\n",
      "Iteración 11000: Error = 0.7828\n",
      "Iteración 11500: Error = 0.7636\n",
      "Iteración 12000: Error = 0.7450\n",
      "Iteración 12500: Error = 0.7269\n",
      "Iteración 13000: Error = 0.7093\n",
      "Iteración 13500: Error = 0.6922\n"
     ]
    }
   ],
   "source": [
    "theta_final, loss_history = gradient_descent(X_b, y, theta, alpha, iterations)\n"
   ]
  },
  {
   "cell_type": "markdown",
   "id": "e32f1600",
   "metadata": {},
   "source": [
    "5. Gráfico de convergencia"
   ]
  },
  {
   "cell_type": "code",
   "execution_count": 90,
   "id": "e6668d5e",
   "metadata": {},
   "outputs": [
    {
     "data": {
      "image/png": "[encoded data removed]",
      "text/plain": [
       "<Figure size 800x500 with 1 Axes>"
      ]
     },
     "metadata": {},
     "output_type": "display_data"
    }
   ],
   "source": [
    "plt.figure(figsize=(8, 5))\n",
    "plt.plot(range(iterations), loss_history, color='orange')\n",
    "plt.title(\"Convergencia del Error - Regresión Lineal\")\n",
    "plt.xlabel(\"Iteraciones\")\n",
    "plt.ylabel(\"Error (ECM)\")\n",
    "plt.grid(True)\n",
    "plt.show()"
   ]
  },
  {
   "cell_type": "markdown",
   "id": "a4e46b65",
   "metadata": {},
   "source": [
    "6. Evaluación con R²"
   ]
  },
  {
   "cell_type": "code",
   "execution_count": 91,
   "id": "1b198ede",
   "metadata": {},
   "outputs": [
    {
     "name": "stdout",
     "output_type": "stream",
     "text": [
      "Coeficiente de determinación R²: 0.4499\n"
     ]
    }
   ],
   "source": [
    "from sklearn.metrics import r2_score\n",
    "y_pred = X_b.dot(theta_final)\n",
    "r2 = r2_score(y, y_pred)\n",
    "print(f\"Coeficiente de determinación R²: {r2:.4f}\")\n"
   ]
  }
 ],
 "metadata": {
  "kernelspec": {
   "display_name": "Python 3",
   "language": "python",
   "name": "python3"
  },
  "language_info": {
   "codemirror_mode": {
    "name": "ipython",
    "version": 3
   },
   "file_extension": ".py",
   "mimetype": "text/x-python",
   "name": "python",
   "nbconvert_exporter": "python",
   "pygments_lexer": "ipython3",
   "version": "3.13.3"
  }
 },
 "nbformat": 4,
 "nbformat_minor": 5
}
